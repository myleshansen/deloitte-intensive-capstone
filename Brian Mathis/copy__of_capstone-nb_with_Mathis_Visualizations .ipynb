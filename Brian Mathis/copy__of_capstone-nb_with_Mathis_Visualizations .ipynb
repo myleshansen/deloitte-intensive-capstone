{
 "cells": [
  {
   "cell_type": "code",
   "execution_count": null,
   "metadata": {},
   "outputs": [],
   "source": [
    "import pandas as pd\n",
    "import numpy as np\n",
    "import seaborn as sns\n",
    "import sqlite3\n",
    "import matplotlib.pyplot as plt\n",
    "%matplotlib inline"
   ]
  },
  {
   "cell_type": "markdown",
   "metadata": {},
   "source": [
    "## IMDB Data"
   ]
  },
  {
   "cell_type": "code",
   "execution_count": null,
   "metadata": {},
   "outputs": [],
   "source": [
    "conn = sqlite3.connect(\"im.db\")"
   ]
  },
  {
   "cell_type": "code",
   "execution_count": null,
   "metadata": {},
   "outputs": [],
   "source": [
    "imdb_movie_info = pd.read_sql(\"\"\"SELECT * FROM movie_basics;\"\"\", conn)"
   ]
  },
  {
   "cell_type": "code",
   "execution_count": null,
   "metadata": {},
   "outputs": [],
   "source": [
    "imdb_movie_info.head()"
   ]
  },
  {
   "cell_type": "markdown",
   "metadata": {},
   "source": [
    "### Top Movies by # Votes"
   ]
  },
  {
   "cell_type": "code",
   "execution_count": null,
   "metadata": {},
   "outputs": [],
   "source": [
    "top_movies_by_votes = pd.read_sql(\"\"\"SELECT genres, primary_title, averagerating, start_year, numvotes\n",
    "                                FROM movie_basics\n",
    "                                JOIN movie_ratings\n",
    "                                    USING(movie_id)\n",
    "                                ORDER BY numvotes DESC\n",
    ";\"\"\", conn)"
   ]
  },
  {
   "cell_type": "code",
   "execution_count": null,
   "metadata": {
    "scrolled": false
   },
   "outputs": [],
   "source": [
    "top_movies_by_votes"
   ]
  },
  {
   "cell_type": "markdown",
   "metadata": {},
   "source": [
    "### Top Genres by Count"
   ]
  },
  {
   "cell_type": "code",
   "execution_count": null,
   "metadata": {},
   "outputs": [],
   "source": [
    "top_genres_by_count = pd.read_sql(\"\"\"SELECT genres, COUNT(*) as amount\n",
    "                                        FROM movie_basics\n",
    "                                        GROUP BY GENRES\n",
    "                                        ORDER BY amount DESC\n",
    ";\"\"\", conn)"
   ]
  },
  {
   "cell_type": "code",
   "execution_count": null,
   "metadata": {},
   "outputs": [],
   "source": [
    "top_genres_by_count = pd.read_sql(\"\"\"\n",
    "    SELECT COALESCE(genres, 'Unknown') as genres, COUNT(*) as amount\n",
    "    FROM movie_basics\n",
    "    GROUP BY genres\n",
    "    ORDER BY amount DESC\n",
    "    LIMIT 10;\n",
    "\"\"\", conn)\n",
    "\n",
    "plt.figure(figsize=(10, 6))\n",
    "\n",
    "# Create the bar plot\n",
    "plt.bar(top_genres_by_count['genres'], top_genres_by_count['amount'])\n",
    "plt.xlabel('Genres')\n",
    "plt.ylabel('Number of Movies')\n",
    "plt.title('Top Genres by Number of Movies')\n",
    "plt.xticks(rotation=45)\n",
    "plt.tight_layout()\n",
    "plt.show()\n",
    "\n",
    "# Show the plot"
   ]
  },
  {
   "cell_type": "code",
   "execution_count": null,
   "metadata": {},
   "outputs": [],
   "source": [
    "top_genres_by_count = pd.read_sql(\"\"\"\n",
    "    SELECT COALESCE(genres, 'Unknown') as genres, COUNT(*) as amount\n",
    "    FROM movie_basics\n",
    "    GROUP BY genres\n",
    "    ORDER BY amount DESC\n",
    "    LIMIT 10;  -- Limit to top 10 genres\n",
    "\"\"\", conn)\n",
    "\n",
    "# Set style using seaborn\n",
    "sns.set_style(\"whitegrid\")\n",
    "\n",
    "# Create the bar plot\n",
    "plt.figure(figsize=(10, 6))\n",
    "bar_plot = sns.barplot(\n",
    "    x='amount',\n",
    "    y='genres',\n",
    "    data=top_genres_by_count,\n",
    "    palette=\"viridis\"  # Change the color palette to 'viridis'\n",
    ")\n",
    "plt.xlabel('Number of Movies')\n",
    "plt.ylabel('Genres')\n",
    "plt.title('Top Genres by Number of Movies')\n",
    "\n",
    "# Customize the style of the plot\n",
    "sns.despine(left=True)  # Remove the left spine\n",
    "plt.grid(axis='x', linestyle='--', alpha=0.7)  # Add a dashed grid for better readability\n",
    "plt.tight_layout()\n",
    "\n",
    "# Annotate the bars with values\n",
    "for p in bar_plot.patches:\n",
    "    bar_plot.annotate(format(p.get_width(), '.0f'), \n",
    "                      (p.get_width(), p.get_y() + p.get_height() / 2),\n",
    "                      xytext=(5, 0),  # Offset text from point\n",
    "                      textcoords='offset points',\n",
    "                      ha='left', va='center', color='black', weight='bold')\n",
    "\n",
    "# Show the plot\n",
    "plt.show()"
   ]
  },
  {
   "cell_type": "code",
   "execution_count": null,
   "metadata": {},
   "outputs": [],
   "source": [
    "top_genres_by_count = pd.read_sql(\"\"\"\n",
    "    SELECT COALESCE(genres, 'Unknown') as genres, COUNT(*) as amount\n",
    "    FROM movie_basics\n",
    "    GROUP BY genres\n",
    "    ORDER BY amount DESC\n",
    "    LIMIT 10;  -- Limit to top 10 genres\n",
    "\"\"\", conn)\n",
    "\n",
    "# Combine multiple genres with commas\n",
    "top_genres_by_count['genres'] = top_genres_by_count['genres'].str.replace(',', ', ')\n",
    "\n",
    "# Set style using seaborn\n",
    "sns.set_style(\"whitegrid\")\n",
    "\n",
    "# Create the bar plot\n",
    "plt.figure(figsize=(10, 6))\n",
    "bar_plot = sns.barplot(\n",
    "    x='amount',\n",
    "    y='genres',\n",
    "    data=top_genres_by_count,\n",
    "    palette=\"viridis\"  # Change the color palette to 'viridis'\n",
    ")\n",
    "plt.xlabel('Number of Movies')\n",
    "plt.ylabel('Genres')\n",
    "plt.title('Top Genres by Number of Movies')\n",
    "\n",
    "# Customize the style of the plot\n",
    "sns.despine(left=True)  # Remove the left spine\n",
    "plt.grid(axis='x', linestyle='--', alpha=0.7)  # Add a dashed grid for better readability\n",
    "plt.tight_layout()\n",
    "\n",
    "# Annotate the bars with values\n",
    "for p in bar_plot.patches:\n",
    "    bar_plot.annotate(format(p.get_width(), '.0f'), \n",
    "                      (p.get_width(), p.get_y() + p.get_height() / 2),\n",
    "                      xytext=(5, 0),  # Offset text from point\n",
    "                      textcoords='offset points',\n",
    "                      ha='left', va='center', color='black', weight='bold')\n",
    "\n",
    "# Show the plot\n",
    "plt.show()"
   ]
  },
  {
   "cell_type": "code",
   "execution_count": null,
   "metadata": {},
   "outputs": [],
   "source": [
    "top_genres_by_count = pd.read_sql(\"\"\"\n",
    "    SELECT COALESCE(genres, 'Unknown') as genres, COUNT(*) as amount\n",
    "    FROM movie_basics\n",
    "    GROUP BY genres\n",
    "    ORDER BY amount DESC\n",
    "    LIMIT 10;  -- Limit to top 10 genres\n",
    "\"\"\", conn)\n",
    "\n",
    "# Set style using seaborn\n",
    "sns.set_style(\"whitegrid\")\n",
    "\n",
    "# Create the bar plot using a horizontal bar chart\n",
    "plt.figure(figsize=(10, 6))\n",
    "bar_plot = sns.barplot(\n",
    "    x='amount',\n",
    "    y='genres',\n",
    "    data=top_genres_by_count,\n",
    "    palette=\"viridis\"  # Change the color palette to 'viridis'\n",
    ")\n",
    "plt.xlabel('Number of Movies')\n",
    "plt.ylabel('Genres')\n",
    "plt.title('Top Genres by Number of Movies')\n",
    "\n",
    "# Customize the style of the plot\n",
    "sns.despine()  # Remove spines to improve aesthetics\n",
    "plt.grid(axis='y', linestyle='--', alpha=0.7)  # Add a dashed grid for better readability\n",
    "plt.tight_layout()\n",
    "\n",
    "# Annotate the bars with values\n",
    "for p in bar_plot.patches:\n",
    "    bar_plot.annotate(format(p.get_width(), '.0f'), \n",
    "                      (p.get_width(), p.get_y() + p.get_height() / 2),\n",
    "                      xytext=(5, 0),  # Offset text from point\n",
    "                      textcoords='offset points',\n",
    "                      ha='left', va='center', color='black', weight='bold')\n",
    "\n",
    "# Show the plot\n",
    "plt.show()"
   ]
  },
  {
   "cell_type": "markdown",
   "metadata": {},
   "source": [
    "### Top Genres by Rating"
   ]
  },
  {
   "cell_type": "code",
   "execution_count": null,
   "metadata": {},
   "outputs": [],
   "source": [
    "top_genres_by_rating = pd.read_sql(\"\"\"SELECT genres, AVG(averagerating) as average_rating\n",
    "                                        FROM movie_basics\n",
    "                                        JOIN movie_ratings\n",
    "                                            USING(movie_id)\n",
    "                                        GROUP BY GENRES\n",
    "                                        ORDER BY average_rating DESC\n",
    ";\"\"\", conn)"
   ]
  },
  {
   "cell_type": "code",
   "execution_count": null,
   "metadata": {
    "scrolled": false
   },
   "outputs": [],
   "source": [
    "top_genres_by_rating\n"
   ]
  },
  {
   "cell_type": "code",
   "execution_count": null,
   "metadata": {
    "scrolled": true
   },
   "outputs": [],
   "source": [
    "# plt.figure(figsize=(10, 6))  # Adjust the figure size if needed\n",
    "top_genres_by_rating.dropna(subset=['genres', 'average_rating'], inplace=True)\n",
    "\n",
    "plt.bar(top_genres_by_rating['genres'], top_genres_by_rating['average_rating'])\n",
    "# plt.xlabel('Genres')\n",
    "# plt.ylabel('Average Rating')\n",
    "# plt.title('Top Genres by Average Rating')\n",
    "# plt.xticks(rotation=45, ha='right')  # Rotate x-axis labels for better readability\n",
    "# plt.tight_layout()  # Adjust layout to prevent clipping of labels\n",
    "# plt.show()\n",
    "plt.show()"
   ]
  },
  {
   "cell_type": "code",
   "execution_count": null,
   "metadata": {},
   "outputs": [],
   "source": [
    "subset_genres = top_genres_by_rating.head(10)\n",
    "\n",
    "plt.figure(figsize=(10, 6))\n",
    "plt.bar(subset_genres['genres'], subset_genres['average_rating'])\n",
    "plt.xlabel('Genres')\n",
    "plt.ylabel('Average Rating')\n",
    "plt.title('Top Genres by Average Rating')\n",
    "plt.xticks(rotation=45, ha='right')\n",
    "plt.tight_layout()\n",
    "plt.show()"
   ]
  },
  {
   "cell_type": "code",
   "execution_count": null,
   "metadata": {
    "scrolled": true
   },
   "outputs": [],
   "source": [
    "# top_genres_by_rating.dropna(subset=['genres', 'average_rating'], inplace=True)\n",
    "\n",
    "top_genres_by_rating.dropna(subset=['genres', 'average_rating'], inplace=True)\n",
    "\n",
    "# Split multiple genres and create a DataFrame\n",
    "genre_df = pd.concat([\n",
    "    pd.Series(row['average_rating'], row['genres'].split(',')) for _, row in top_genres_by_rating.iterrows()\n",
    "], axis=1)\n",
    "\n",
    "genre_df = genre_df.transpose()\n",
    "\n",
    "# Plot using seaborn\n",
    "plt.figure(figsize=(12, 6))\n",
    "sns.barplot(data=genre_df, ci=None)\n",
    "plt.xlabel('Top Genres')\n",
    "plt.ylabel('Average Rating')\n",
    "plt.title('Average Ratings for Top Genres')\n",
    "plt.xticks(rotation=45, ha='right')\n",
    "plt.tight_layout()\n",
    "plt.show()"
   ]
  },
  {
   "cell_type": "code",
   "execution_count": null,
   "metadata": {},
   "outputs": [],
   "source": [
    "plt.figure(figsize=(12, 6))\n",
    "sns.barplot(data=genre_df, ci=None, palette=colors)\n",
    "plt.xlabel('Top Genres')\n",
    "plt.ylabel('Average Rating')\n",
    "plt.title('Average Ratings for Top Genres')\n",
    "plt.xticks(rotation=45, ha='right')\n",
    "plt.tight_layout()\n",
    "\n",
    "# Save the plot as an image file with higher DPI\n",
    "output_filename = 'average_ratings_by_genre_2.png'\n",
    "plt.savefig(output_filename, dpi=300)  # Set DPI to 300 (adjust as needed)\n",
    "\n",
    "# Show the plot\n",
    "plt.show()"
   ]
  },
  {
   "cell_type": "code",
   "execution_count": null,
   "metadata": {
    "scrolled": true
   },
   "outputs": [],
   "source": [
    "import pandas as pd\n",
    "import matplotlib.pyplot as plt\n",
    "import seaborn as sns\n",
    "\n",
    "# Assuming you have already loaded or created the 'top_genres_by_rating' DataFrame\n",
    "\n",
    "# Drop rows with missing values in 'genres' and 'average_rating' columns\n",
    "top_genres_by_rating.dropna(subset=['genres', 'average_rating'], inplace=True)\n",
    "\n",
    "# Sort the DataFrame by average_rating in descending order and select top 25\n",
    "top_25_genres = top_genres_by_rating.sort_values(by='average_rating', ascending=False).head(10)\n",
    "\n",
    "# Plot using seaborn with custom colors\n",
    "plt.figure(figsize=(12, 6))\n",
    "sns.barplot(x='genres', y='average_rating', data=top_25_genres, ci=None, palette=colors)\n",
    "plt.xlabel('Genres')\n",
    "plt.ylabel('Average Rating')\n",
    "plt.title('Top 25 Genres by Average Rating')\n",
    "plt.xticks(rotation=45, ha='right')\n",
    "plt.tight_layout()\n",
    "\n",
    "# Save the plot as an image file with higher DPI\n",
    "output_filename = 'top_25_genres_ratings.png'\n",
    "plt.savefig(output_filename, dpi=300)  # Set DPI to 300 (adjust as needed)\n",
    "\n",
    "# Show the plot\n",
    "plt.show()"
   ]
  },
  {
   "cell_type": "code",
   "execution_count": null,
   "metadata": {},
   "outputs": [],
   "source": []
  },
  {
   "cell_type": "code",
   "execution_count": null,
   "metadata": {},
   "outputs": [],
   "source": []
  }
 ],
 "metadata": {
  "kernelspec": {
   "display_name": "Python (learn-env)",
   "language": "python",
   "name": "learn-env"
  },
  "language_info": {
   "codemirror_mode": {
    "name": "ipython",
    "version": 3
   },
   "file_extension": ".py",
   "mimetype": "text/x-python",
   "name": "python",
   "nbconvert_exporter": "python",
   "pygments_lexer": "ipython3",
   "version": "3.8.5"
  }
 },
 "nbformat": 4,
 "nbformat_minor": 4
}
